{
  "nbformat": 4,
  "nbformat_minor": 0,
  "metadata": {
    "kernelspec": {
      "display_name": "Python 3",
      "language": "python",
      "name": "python3"
    },
    "language_info": {
      "codemirror_mode": {
        "name": "ipython",
        "version": 3
      },
      "file_extension": ".py",
      "mimetype": "text/x-python",
      "name": "python",
      "nbconvert_exporter": "python",
      "pygments_lexer": "ipython3",
      "version": "3.8.5"
    },
    "colab": {
      "name": "Label_Propagation_mnist.ipynb",
      "provenance": [],
      "collapsed_sections": []
    }
  },
  "cells": [
    {
      "cell_type": "markdown",
      "metadata": {
        "id": "ieUiNqS3KCZw"
      },
      "source": [
        "\n",
        "## This exercise is adapted from scikit-learn's [tutorial](https://scikit-learn.org/stable/auto_examples/semi_supervised/plot_label_propagation_digits.html) on zero shot learning ."
      ]
    },
    {
      "cell_type": "markdown",
      "metadata": {
        "id": "16g4kXz42Ral"
      },
      "source": [
        "This example demonstrates the power of semisupervised learning by training a Label Spreading model to classify handwritten digits with sets of very few labels."
      ]
    },
    {
      "cell_type": "code",
      "metadata": {
        "id": "hOVZd8fjgJyK"
      },
      "source": [
        "import numpy as np\n",
        "import matplotlib.pyplot as plt\n",
        "\n",
        "from scipy import stats\n",
        "\n",
        "from sklearn import datasets\n",
        "from sklearn.semi_supervised import LabelSpreading\n",
        "\n",
        "from sklearn.metrics import confusion_matrix, classification_report"
      ],
      "execution_count": null,
      "outputs": []
    },
    {
      "cell_type": "markdown",
      "metadata": {
        "id": "0An6u8e9loVQ"
      },
      "source": [
        "\n",
        "1. Shuffle the indices\n",
        "2. Use the shuffled indices to extract 1000 random samples from the features data\n",
        "3. Extract the corresponding 1000 labels and images\n",
        "4. Copy the labels. Treat the first 50 shuffled samples as labeled data and the rest as unlabeled data. Replace the labels after the first 50 with -1.\n",
        "\n",
        "We'll use this copy of our labels (with 50 labels known and the other 950 hidden) to train our model, and use the original copy (with all 1000 labels known) to evaluate the model."
      ]
    },
    {
      "cell_type": "code",
      "metadata": {
        "id": "XyaWhrhCgJyO"
      },
      "source": [
        "# Load the digits dataset\n",
        "# digits = {data,target,indices}; n = 1797\n",
        "#digits.keys() = dict_keys(['data', 'target', 'target_names', 'images', 'DESCR'])\n",
        "digits = datasets.load_digits()\n",
        "\n",
        "# Seting the random state to 2 for reproducibility\n",
        "rng = np.random.RandomState(2)\n",
        "\n",
        "\n",
        "# Initializing the indices as an ordered array, with each element corresponding to a sample in the dataset\n",
        "indices = np.arange(len(digits.data))\n",
        "\n",
        "# Shuffle the indices\n",
        "rng.shuffle(indices)\n",
        "\n",
        "# Use the shuffled indices to extract 1000 feature vectors, labels, and images\n",
        "n_total_samples = 1000\n",
        "# Features\n",
        "X = digits.data[indices[:1000]]\n",
        "# Labels\n",
        "y = digits.target[indices[:1000]]\n",
        "# Images\n",
        "images =  digits.images[indices[:1000]]\n",
        "\n",
        "# Copy the labels\n",
        "y_train = np.copy(y)\n",
        "\n",
        "#**********************************************************************************************\n",
        "# Replace all of the elements of y_train after the first 50 with -1, rendering them unlabeled *\n",
        "#**********************************************************************************************\n",
        "n_labeled_points = 50 #these are the number of labeled images\n",
        "# Create an ordered array of indices of the training data\n",
        "train_indices =np.arange(n_total_samples)\n",
        "# Define the training data indices after n_labeled_points as unlabeled\n",
        "indices = np.arange(1000) # redifine indices since we are only using 1000 datapoints\n",
        "unlabeled_set = indices[n_labeled_points:]\n",
        "# Conduct the label replacement\n",
        "y_train[unlabeled_set] = -1"
      ],
      "execution_count": null,
      "outputs": []
    },
    {
      "cell_type": "code",
      "metadata": {
        "id": "noYfGKxHz36t"
      },
      "source": [
        ""
      ],
      "execution_count": null,
      "outputs": []
    },
    {
      "cell_type": "markdown",
      "metadata": {
        "id": "Ij_hVMtyvomW"
      },
      "source": [
        "### Verifying that the labels are randomly distributed and all the labels after the first 50 in `y_train` are hidden"
      ]
    },
    {
      "cell_type": "code",
      "metadata": {
        "id": "39CAoaBzgJyR",
        "colab": {
          "base_uri": "https://localhost:8080/"
        },
        "outputId": "22a61eb5-3f64-4379-fe24-8e2225222248"
      },
      "source": [
        "print(y_train[0:100])"
      ],
      "execution_count": null,
      "outputs": [
        {
          "output_type": "stream",
          "text": [
            "[ 4  0  9  1  4  7  1  5  1  6  6  7  6  1  5  5  4  6  2  7  4  6  4  1\n",
            "  5  2  9  5  4  6  5  6  3  4  0  9  9  8  4  6  8  8  5  7  9  6  9  6\n",
            "  1  3 -1 -1 -1 -1 -1 -1 -1 -1 -1 -1 -1 -1 -1 -1 -1 -1 -1 -1 -1 -1 -1 -1\n",
            " -1 -1 -1 -1 -1 -1 -1 -1 -1 -1 -1 -1 -1 -1 -1 -1 -1 -1 -1 -1 -1 -1 -1 -1\n",
            " -1 -1 -1 -1]\n"
          ],
          "name": "stdout"
        }
      ]
    },
    {
      "cell_type": "markdown",
      "metadata": {
        "id": "40hk3UKewEZe"
      },
      "source": [
        "Trainingthe label propagation model with `gamma = 0.25` and `max_iter = 20`\n"
      ]
    },
    {
      "cell_type": "code",
      "metadata": {
        "id": "8wHcs3qkgJyW",
        "colab": {
          "base_uri": "https://localhost:8080/"
        },
        "outputId": "70cf046d-e14a-4847-8b9e-f5a3b0af2605"
      },
      "source": [
        "lp_model = LabelSpreading(gamma = 0.25 , max_iter = 20)\n",
        "lp_model.fit(X, y_train)"
      ],
      "execution_count": null,
      "outputs": [
        {
          "output_type": "execute_result",
          "data": {
            "text/plain": [
              "LabelSpreading(alpha=0.2, gamma=0.25, kernel='rbf', max_iter=20, n_jobs=None,\n",
              "               n_neighbors=7, tol=0.001)"
            ]
          },
          "metadata": {
            "tags": []
          },
          "execution_count": 4
        }
      ]
    },
    {
      "cell_type": "markdown",
      "metadata": {
        "id": "LTBwLj2Gy8qM"
      },
      "source": [
        "### Evaluating the model's performance on the unlabeled data"
      ]
    },
    {
      "cell_type": "code",
      "metadata": {
        "id": "CjFO-PxjgJya",
        "colab": {
          "base_uri": "https://localhost:8080/"
        },
        "outputId": "1fd57159-6213-4f37-eac0-07a052e8f200"
      },
      "source": [
        "# Extracting the label predictions for the unlabeled data\n",
        "predicted_labels = lp_model.transduction_[unlabeled_set]\n",
        "# Extracting the true labels of the unlabeled data\n",
        "true_labels = y[unlabeled_set]\n",
        "# Computing the confusion matrix between the true and predicted labels of the unlabeled data\n",
        "cm = confusion_matrix(true_labels, predicted_labels, labels=lp_model.classes_) #for labels the model finds the 9 classes\n",
        "\n",
        "print(\"Label Spreading model: %d labeled & %d unlabeled points (%d total)\" %\n",
        "      (n_labeled_points, n_total_samples - n_labeled_points, n_total_samples))\n",
        "\n",
        "print(classification_report(true_labels, predicted_labels))\n",
        "\n",
        "print(\"Confusion matrix\")\n",
        "print(cm)"
      ],
      "execution_count": null,
      "outputs": [
        {
          "output_type": "stream",
          "text": [
            "Label Spreading model: 50 labeled & 950 unlabeled points (1000 total)\n",
            "              precision    recall  f1-score   support\n",
            "\n",
            "           0       1.00      1.00      1.00        98\n",
            "           1       0.85      0.90      0.88        93\n",
            "           2       0.99      0.78      0.87        91\n",
            "           3       0.92      0.90      0.91       108\n",
            "           4       0.97      1.00      0.98        88\n",
            "           5       0.97      0.93      0.95       102\n",
            "           6       0.97      1.00      0.99       100\n",
            "           7       0.98      0.91      0.94        91\n",
            "           8       0.86      0.82      0.84        87\n",
            "           9       0.77      0.97      0.86        92\n",
            "\n",
            "    accuracy                           0.92       950\n",
            "   macro avg       0.93      0.92      0.92       950\n",
            "weighted avg       0.93      0.92      0.92       950\n",
            "\n",
            "Confusion matrix\n",
            "[[ 98   0   0   0   0   0   0   0   0   0]\n",
            " [  0  84   0   0   1   1   0   0   3   4]\n",
            " [  0  12  71   0   0   0   0   1   7   0]\n",
            " [  0   0   0  97   0   0   0   1   0  10]\n",
            " [  0   0   0   0  88   0   0   0   0   0]\n",
            " [  0   0   0   0   0  95   0   0   0   7]\n",
            " [  0   0   0   0   0   0 100   0   0   0]\n",
            " [  0   0   0   0   0   2   0  83   0   6]\n",
            " [  0   3   1   8   1   0   3   0  71   0]\n",
            " [  0   0   0   0   1   0   0   0   2  89]]\n"
          ],
          "name": "stdout"
        }
      ]
    },
    {
      "cell_type": "markdown",
      "metadata": {
        "id": "bdzbh8uu3ZK3"
      },
      "source": [
        "In scikit learn confusion matrix the true labels are the vertical column. The number 8 gets confused the most , with 8 entries were it thought to be the number 3; the number 2 got confused by the number 1, 12 times~!"
      ]
    },
    {
      "cell_type": "markdown",
      "metadata": {
        "id": "Hwlk3ptY1YrL"
      },
      "source": [
        "The 10 most uncertain labels"
      ]
    },
    {
      "cell_type": "code",
      "metadata": {
        "id": "94k2v_ZtnniR"
      },
      "source": [
        ""
      ],
      "execution_count": null,
      "outputs": []
    },
    {
      "cell_type": "code",
      "metadata": {
        "id": "2ajvW97mgJyf",
        "colab": {
          "base_uri": "https://localhost:8080/",
          "height": 314
        },
        "outputId": "f654349e-14c3-4ebe-c976-b4ad2f3b1049"
      },
      "source": [
        "# Calculating uncertainty values for each transduced distribution\n",
        "# using scipy stats' entropy() \n",
        "pred_entropies = stats.distributions.entropy(lp_model.label_distributions_.T)\n",
        "\n",
        "# top 10 most uncertain labels, in descending order of uncertainty\n",
        "uncertainty_index = np.argsort(pred_entropies)[-10:]\n",
        "\n",
        "\n",
        "f = plt.figure(figsize=(7, 5))\n",
        "for index, image_index in enumerate(uncertainty_index):\n",
        "    image = images[image_index]\n",
        "\n",
        "    sub = f.add_subplot(2, 5, index + 1)\n",
        "    sub.imshow(image, cmap=plt.cm.gray_r)\n",
        "    plt.xticks([])\n",
        "    plt.yticks([])\n",
        "    sub.set_title('predict: %i\\ntrue: %i' % (\n",
        "        lp_model.transduction_[image_index], y[image_index]))\n",
        "\n",
        "f.suptitle('Learning with small amount of labeled data')\n",
        "plt.show()"
      ],
      "execution_count": null,
      "outputs": [
        {
          "output_type": "display_data",
          "data": {
            "image/png": "[encoded data removed]",
            "text/plain": [
              "<Figure size 504x360 with 10 Axes>"
            ]
          },
          "metadata": {
            "tags": []
          }
        }
      ]
    },
    {
      "cell_type": "markdown",
      "metadata": {
        "id": "km0umzNC-4Wp"
      },
      "source": [
        "\n",
        "> Bloc con sangría\n",
        "\n"
      ]
    },
    {
      "cell_type": "markdown",
      "metadata": {
        "id": "xD119mlU69jb"
      },
      "source": [
        "### Exercise: Repeat the experiment with 10, 100, and 250 labeled images. How do the differing numbers of labeled samples affect the model's performance? Which number detections yield the most errors?\n",
        "\n",
        "\n"
      ]
    },
    {
      "cell_type": "markdown",
      "metadata": {
        "id": "yGM5Iam2ABkU"
      },
      "source": [
        "##Experiment with 10 labled images"
      ]
    },
    {
      "cell_type": "code",
      "metadata": {
        "colab": {
          "base_uri": "https://localhost:8080/",
          "height": 814
        },
        "id": "FIZtkuH0AIJZ",
        "outputId": "1033a9bd-ff90-45e9-db23-f54b55b6d488"
      },
      "source": [
        "n_total_samples = 1000\n",
        "X = digits.data[indices[:1000]]\n",
        "y = digits.target[indices[:1000]]\n",
        "images =  digits.images[indices[:1000]]\n",
        "y_train = np.copy(y)\n",
        "n_labeled_points = 10#only 10 labeled images\n",
        "\n",
        "train_indices =np.arange(n_total_samples)\n",
        "indices = np.arange(1000) # redifine indices since we are only using 100 datapoints\n",
        "unlabeled_set = indices[n_labeled_points:]\n",
        "y_train[unlabeled_set] = -1\n",
        "lp_model = LabelSpreading(gamma = 0.25 , max_iter = 20)\n",
        "lp_model.fit(X, y_train)\n",
        "predicted_labels = lp_model.transduction_[unlabeled_set]\n",
        "true_labels = y[unlabeled_set]\n",
        "cm = confusion_matrix(true_labels, predicted_labels, labels=lp_model.classes_) #for labels the model finds the 9 classes\n",
        "print(\"Label Spreading model: %d labeled & %d unlabeled points (%d total)\" %\n",
        "      (n_labeled_points, n_total_samples - n_labeled_points, n_total_samples))\n",
        "print(classification_report(true_labels, predicted_labels))\n",
        "print(\"Confusion matrix\")\n",
        "print(cm)\n",
        "pred_entropies = stats.distributions.entropy(lp_model.label_distributions_.T)\n",
        "uncertainty_index = np.argsort(pred_entropies)[-10:]\n",
        "\n",
        "f = plt.figure(figsize=(7, 5))\n",
        "for index, image_index in enumerate(uncertainty_index):\n",
        "    image = images[image_index]\n",
        "\n",
        "    sub = f.add_subplot(2, 5, index + 1)\n",
        "    sub.imshow(image, cmap=plt.cm.gray_r)\n",
        "    plt.xticks([])\n",
        "    plt.yticks([])\n",
        "    sub.set_title('predict: %i\\ntrue: %i' % (\n",
        "        lp_model.transduction_[image_index], y[image_index]))\n",
        "f.suptitle('Learning with small amount of labeled data')\n",
        "plt.show()"
      ],
      "execution_count": null,
      "outputs": [
        {
          "output_type": "stream",
          "text": [
            "Label Spreading model: 10 labeled & 990 unlabeled points (1000 total)\n",
            "              precision    recall  f1-score   support\n",
            "\n",
            "           0       0.96      1.00      0.98        98\n",
            "           1       0.64      0.54      0.59       101\n",
            "           2       0.97      0.77      0.86        99\n",
            "           3       0.84      0.99      0.91       103\n",
            "           4       0.98      0.85      0.91        97\n",
            "           5       0.54      0.69      0.60        99\n",
            "           6       0.67      1.00      0.80       100\n",
            "           7       0.92      0.99      0.96        98\n",
            "           8       0.68      0.85      0.76        97\n",
            "           9       0.88      0.15      0.26        98\n",
            "\n",
            "    accuracy                           0.78       990\n",
            "   macro avg       0.81      0.78      0.76       990\n",
            "weighted avg       0.81      0.78      0.76       990\n",
            "\n",
            "Confusion matrix\n",
            "[[ 98   0   0   0   0   0   0   0   0   0]\n",
            " [  0  55   0   0   0   0  36   0  10   0]\n",
            " [  0   4  76   2   0   0   2   1  14   0]\n",
            " [  0   0   0 102   0   0   0   0   1   0]\n",
            " [  0   8   0   0  82   0   3   4   0   0]\n",
            " [  4   0   0  14   2  68   4   0   6   1]\n",
            " [  0   0   0   0   0   0 100   0   0   0]\n",
            " [  0   0   0   0   0   0   0  97   1   0]\n",
            " [  0   4   2   2   0   2   4   0  82   1]\n",
            " [  0  15   0   2   0  57   0   3   6  15]]\n"
          ],
          "name": "stdout"
        },
        {
          "output_type": "display_data",
          "data": {
            "image/png": "[encoded data removed]",
            "text/plain": [
              "<Figure size 504x360 with 10 Axes>"
            ]
          },
          "metadata": {
            "tags": []
          }
        }
      ]
    },
    {
      "cell_type": "markdown",
      "metadata": {
        "id": "Blvjwjj0G9kz"
      },
      "source": [
        "##with 100 labeled images"
      ]
    },
    {
      "cell_type": "code",
      "metadata": {
        "colab": {
          "base_uri": "https://localhost:8080/",
          "height": 814
        },
        "id": "QKR-MeFOBYYg",
        "outputId": "bed6d0bf-75d5-40bb-d391-afc0b0cea90d"
      },
      "source": [
        "n_total_samples = 1000\n",
        "X = digits.data[indices[:1000]]\n",
        "y = digits.target[indices[:1000]]\n",
        "images =  digits.images[indices[:1000]]\n",
        "y_train = np.copy(y)\n",
        "n_labeled_points = 100 #100 labeled images\n",
        "\n",
        "train_indices =np.arange(n_total_samples)\n",
        "indices = np.arange(1000) # redifine indices since we are only using 100 datapoints\n",
        "unlabeled_set = indices[n_labeled_points:]\n",
        "y_train[unlabeled_set] = -1\n",
        "lp_model = LabelSpreading(gamma = 0.25 , max_iter = 20)\n",
        "lp_model.fit(X, y_train)\n",
        "predicted_labels = lp_model.transduction_[unlabeled_set]\n",
        "true_labels = y[unlabeled_set]\n",
        "cm = confusion_matrix(true_labels, predicted_labels, labels=lp_model.classes_) #for labels the model finds the 9 classes\n",
        "print(\"Label Spreading model: %d labeled & %d unlabeled points (%d total)\" %\n",
        "      (n_labeled_points, n_total_samples - n_labeled_points, n_total_samples))\n",
        "print(classification_report(true_labels, predicted_labels))\n",
        "print(\"Confusion matrix\")\n",
        "print(cm)\n",
        "pred_entropies = stats.distributions.entropy(lp_model.label_distributions_.T)\n",
        "uncertainty_index = np.argsort(pred_entropies)[-10:]\n",
        "\n",
        "f = plt.figure(figsize=(7, 5))\n",
        "for index, image_index in enumerate(uncertainty_index):\n",
        "    image = images[image_index]\n",
        "\n",
        "    sub = f.add_subplot(2, 5, index + 1)\n",
        "    sub.imshow(image, cmap=plt.cm.gray_r)\n",
        "    plt.xticks([])\n",
        "    plt.yticks([])\n",
        "    sub.set_title('predict: %i\\ntrue: %i' % (\n",
        "        lp_model.transduction_[image_index], y[image_index]))\n",
        "f.suptitle('Learning with small amount of labeled data')\n",
        "plt.show()"
      ],
      "execution_count": null,
      "outputs": [
        {
          "output_type": "stream",
          "text": [
            "Label Spreading model: 100 labeled & 900 unlabeled points (1000 total)\n",
            "              precision    recall  f1-score   support\n",
            "\n",
            "           0       1.00      1.00      1.00        88\n",
            "           1       0.70      0.56      0.62        90\n",
            "           2       0.92      0.99      0.95        90\n",
            "           3       0.97      0.97      0.97        92\n",
            "           4       1.00      0.94      0.97        90\n",
            "           5       0.99      0.92      0.95        91\n",
            "           6       0.75      0.99      0.85        90\n",
            "           7       0.96      0.89      0.92        89\n",
            "           8       0.91      0.88      0.89        90\n",
            "           9       0.78      0.81      0.79        90\n",
            "\n",
            "    accuracy                           0.89       900\n",
            "   macro avg       0.90      0.89      0.89       900\n",
            "weighted avg       0.90      0.89      0.89       900\n",
            "\n",
            "Confusion matrix\n",
            "[[88  0  0  0  0  0  0  0  0  0]\n",
            " [ 0 50  5  0  0  0 30  0  5  0]\n",
            " [ 0  0 89  1  0  0  0  0  0  0]\n",
            " [ 0  0  0 89  0  0  0  0  1  2]\n",
            " [ 0  2  0  0 85  0  0  3  0  0]\n",
            " [ 0  0  0  0  0 84  0  0  0  7]\n",
            " [ 0  0  0  0  0  0 89  0  1  0]\n",
            " [ 0  0  0  0  0  0  0 79  0 10]\n",
            " [ 0  4  3  2  0  0  0  0 79  2]\n",
            " [ 0 15  0  0  0  1  0  0  1 73]]\n"
          ],
          "name": "stdout"
        },
        {
          "output_type": "display_data",
          "data": {
            "image/png": "[encoded data removed]",
            "text/plain": [
              "<Figure size 504x360 with 10 Axes>"
            ]
          },
          "metadata": {
            "tags": []
          }
        }
      ]
    },
    {
      "cell_type": "markdown",
      "metadata": {
        "id": "qMsKg_JEHHx9"
      },
      "source": [
        "with 250 labeled images"
      ]
    },
    {
      "cell_type": "code",
      "metadata": {
        "colab": {
          "base_uri": "https://localhost:8080/",
          "height": 814
        },
        "id": "tdal4kY6Cf-d",
        "outputId": "673145bb-ac67-41d4-a1ce-275381ab7e2a"
      },
      "source": [
        "n_total_samples = 1000\n",
        "X = digits.data[indices[:1000]]\n",
        "y = digits.target[indices[:1000]]\n",
        "images =  digits.images[indices[:1000]]\n",
        "y_train = np.copy(y)\n",
        "n_labeled_points = 250 #250 labeled images\n",
        "\n",
        "train_indices =np.arange(n_total_samples)\n",
        "indices = np.arange(1000) # redifine indices since we are only using 100 datapoints\n",
        "unlabeled_set = indices[n_labeled_points:]\n",
        "y_train[unlabeled_set] = -1\n",
        "lp_model = LabelSpreading(gamma = 0.25 , max_iter = 20)\n",
        "lp_model.fit(X, y_train)\n",
        "predicted_labels = lp_model.transduction_[unlabeled_set]\n",
        "true_labels = y[unlabeled_set]\n",
        "cm = confusion_matrix(true_labels, predicted_labels, labels=lp_model.classes_) #for labels the model finds the 9 classes\n",
        "print(\"Label Spreading model: %d labeled & %d unlabeled points (%d total)\" %\n",
        "      (n_labeled_points, n_total_samples - n_labeled_points, n_total_samples))\n",
        "print(classification_report(true_labels, predicted_labels))\n",
        "print(\"Confusion matrix\")\n",
        "print(cm)\n",
        "pred_entropies = stats.distributions.entropy(lp_model.label_distributions_.T)\n",
        "uncertainty_index = np.argsort(pred_entropies)[-10:]\n",
        "\n",
        "f = plt.figure(figsize=(7, 5))\n",
        "for index, image_index in enumerate(uncertainty_index):\n",
        "    image = images[image_index]\n",
        "\n",
        "    sub = f.add_subplot(2, 5, index + 1)\n",
        "    sub.imshow(image, cmap=plt.cm.gray_r)\n",
        "    plt.xticks([])\n",
        "    plt.yticks([])\n",
        "    sub.set_title('predict: %i\\ntrue: %i' % (\n",
        "        lp_model.transduction_[image_index], y[image_index]))\n",
        "f.suptitle('Learning with small amount of labeled data')\n",
        "plt.show()"
      ],
      "execution_count": null,
      "outputs": [
        {
          "output_type": "stream",
          "text": [
            "Label Spreading model: 250 labeled & 750 unlabeled points (1000 total)\n",
            "              precision    recall  f1-score   support\n",
            "\n",
            "           0       1.00      1.00      1.00        74\n",
            "           1       0.62      0.41      0.49        76\n",
            "           2       0.94      0.99      0.96        74\n",
            "           3       0.99      0.97      0.98        78\n",
            "           4       1.00      0.93      0.97        74\n",
            "           5       1.00      0.91      0.95        74\n",
            "           6       0.71      1.00      0.83        76\n",
            "           7       0.96      0.96      0.96        74\n",
            "           8       0.83      0.91      0.86        74\n",
            "           9       0.81      0.78      0.79        76\n",
            "\n",
            "    accuracy                           0.88       750\n",
            "   macro avg       0.88      0.88      0.88       750\n",
            "weighted avg       0.88      0.88      0.88       750\n",
            "\n",
            "Confusion matrix\n",
            "[[74  0  0  0  0  0  0  0  0  0]\n",
            " [ 0 31  5  0  0  0 28  0 12  0]\n",
            " [ 0  0 73  1  0  0  0  0  0  0]\n",
            " [ 0  0  0 76  0  0  0  0  0  2]\n",
            " [ 0  0  0  0 69  0  2  3  0  0]\n",
            " [ 0  0  0  0  0 67  0  0  0  7]\n",
            " [ 0  0  0  0  0  0 76  0  0  0]\n",
            " [ 0  0  0  0  0  0  0 71  0  3]\n",
            " [ 0  4  0  0  0  0  1  0 67  2]\n",
            " [ 0 15  0  0  0  0  0  0  2 59]]\n"
          ],
          "name": "stdout"
        },
        {
          "output_type": "display_data",
          "data": {
            "image/png": "[encoded data removed]",
            "text/plain": [
              "<Figure size 504x360 with 10 Axes>"
            ]
          },
          "metadata": {
            "tags": []
          }
        }
      ]
    },
    {
      "cell_type": "markdown",
      "metadata": {
        "id": "kkRsW03Vvtp6"
      },
      "source": [
        " https://benlevinson.com/projects/comparing-knn-svm-mnist"
      ]
    },
    {
      "cell_type": "markdown",
      "metadata": {
        "id": "d8mIOf1npH0S"
      },
      "source": [
        "Label Spreading model: 50 labeled & 950 unlabeled points (1000 total)\n",
        "              precision    recall  f1-score   support\n",
        "\n",
        "           0       1.00      1.00      1.00        98\n",
        "           1       0.85      0.90      0.88        93\n",
        "           2       0.99      0.78      0.87        91\n",
        "           3       0.92      0.90      0.91       108\n",
        "           4       0.97      1.00      0.98        88\n",
        "           5       0.97      0.93      0.95       102\n",
        "           6       0.97      1.00      0.99       100\n",
        "           7       0.98      0.91      0.94        91\n",
        "           8       0.86      0.82      0.84        87\n",
        "           9       0.77      0.97      0.86        92\n",
        "\n",
        "    accuracy                           0.92       950\n",
        "   macro avg       0.93      0.92      0.92       950\n",
        "weighted avg       0.93      0.92      0.92       950\n",
        "\n",
        " \n",
        " ![image.png](data:image/png;base64,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)\n",
        "\n",
        " Label Spreading model: 10 labeled & 990 unlabeled points (1000 total)\n",
        "              precision    recall  f1-score   support\n",
        "\n",
        "           0       0.96      1.00      0.98        98\n",
        "           1       0.64      0.54      0.59       101\n",
        "           2       0.97      0.77      0.86        99\n",
        "           3       0.84      0.99      0.91       103\n",
        "           4       0.98      0.85      0.91        97\n",
        "           5       0.54      0.69      0.60        99\n",
        "           6       0.67      1.00      0.80       100\n",
        "           7       0.92      0.99      0.96        98\n",
        "           8       0.68      0.85      0.76        97\n",
        "           9       0.88      0.15      0.26        98\n",
        "\n",
        "    accuracy                           0.78       990\n",
        "   macro avg       0.81      0.78      0.76       990\n",
        "weighted avg       0.81      0.78      0.76       990\n",
        "\n",
        "![image.png](data:image/png;base64,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)\n",
        "\n",
        "\n",
        "\n",
        "\n",
        "Label Spreading model: 100 labeled & 900 unlabeled points (1000 total)\n",
        "              precision    recall  f1-score   support\n",
        "\n",
        "           0       1.00      1.00      1.00        88\n",
        "           1       0.70      0.56      0.62        90\n",
        "           2       0.92      0.99      0.95        90\n",
        "           3       0.97      0.97      0.97        92\n",
        "           4       1.00      0.94      0.97        90\n",
        "           5       0.99      0.92      0.95        91\n",
        "           6       0.75      0.99      0.85        90\n",
        "           7       0.96      0.89      0.92        89\n",
        "           8       0.91      0.88      0.89        90\n",
        "           9       0.78      0.81      0.79        90\n",
        "\n",
        "    accuracy                           0.89       900\n",
        "   macro avg       0.90      0.89      0.89       900\n",
        "weighted avg       0.90      0.89      0.89       900\n",
        "\n",
        "![image.png](data:image/png;base64,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)\n",
        "\n",
        "Label Spreading model: 250 labeled & 750 unlabeled points (1000 total)\n",
        "              precision    recall  f1-score   support\n",
        "\n",
        "           0       1.00      1.00      1.00        74\n",
        "           1       0.62      0.41      0.49        76\n",
        "           2       0.94      0.99      0.96        74\n",
        "           3       0.99      0.97      0.98        78\n",
        "           4       1.00      0.93      0.97        74\n",
        "           5       1.00      0.91      0.95        74\n",
        "           6       0.71      1.00      0.83        76\n",
        "           7       0.96      0.96      0.96        74\n",
        "           8       0.83      0.91      0.86        74\n",
        "           9       0.81      0.78      0.79        76\n",
        "\n",
        "    accuracy                           0.88       750\n",
        "   macro avg       0.88      0.88      0.88       750\n",
        "weighted avg       0.88      0.88      0.88       750\n",
        "\n",
        "![image.png](data:image/png;base64,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)"
      ]
    },
    {
      "cell_type": "markdown",
      "metadata": {
        "id": "9uH3eCUlroXT"
      },
      "source": [
        "For label propagation more labeled data does not always equal best results,\n",
        "The accuracy drops as the labeled data increased. This is prob due to the fact that the variance in the labeled data increases as different examples are passed. There is a sweet spot for the most accurate results, 10 labeled items were too little and made the accuracy drop; 50 was found to perform best."
      ]
    }
  ]
}